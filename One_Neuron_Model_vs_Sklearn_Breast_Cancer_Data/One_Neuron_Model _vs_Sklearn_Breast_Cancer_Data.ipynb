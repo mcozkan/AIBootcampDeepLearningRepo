{
 "cells": [
  {
   "cell_type": "markdown",
   "id": "92fe66e2-5b90-426f-8b23-4ba61ea6b239",
   "metadata": {},
   "source": [
    "![Lojistik Regresyon Tek Noronlu NN Görseli](breast_cancer_perceptron_manual_vs_sklearn/assets/gorseller_perceptron.jpg)\n",
    "Taken from DATAI Team Deep Learning Udemy Course"
   ]
  },
  {
   "cell_type": "markdown",
   "id": "43bb794d-65d7-49cf-9646-5ae794bd2fa6",
   "metadata": {},
   "source": [
    "#### Base Libraries"
   ]
  },
  {
   "cell_type": "code",
   "execution_count": 1,
   "id": "9930c8f7-1738-4b6a-965b-55ab55d4f77a",
   "metadata": {},
   "outputs": [],
   "source": [
    "import pandas as pd\n",
    "import numpy as np\n",
    "import matplotlib.pyplot as plt\n",
    "import seaborn as sns\n",
    "import tensorflow"
   ]
  },
  {
   "cell_type": "markdown",
   "id": "a389de47-5f50-4138-83ea-7f581b475aff",
   "metadata": {},
   "source": [
    "#### Data Load"
   ]
  },
  {
   "cell_type": "code",
   "execution_count": 2,
   "id": "ea47e656-074c-4c5b-8efc-4d02a36ba6c3",
   "metadata": {},
   "outputs": [
    {
     "data": {
      "text/html": [
       "<div>\n",
       "<style scoped>\n",
       "    .dataframe tbody tr th:only-of-type {\n",
       "        vertical-align: middle;\n",
       "    }\n",
       "\n",
       "    .dataframe tbody tr th {\n",
       "        vertical-align: top;\n",
       "    }\n",
       "\n",
       "    .dataframe thead th {\n",
       "        text-align: right;\n",
       "    }\n",
       "</style>\n",
       "<table border=\"1\" class=\"dataframe\">\n",
       "  <thead>\n",
       "    <tr style=\"text-align: right;\">\n",
       "      <th></th>\n",
       "      <th>mean radius</th>\n",
       "      <th>mean texture</th>\n",
       "      <th>mean perimeter</th>\n",
       "      <th>mean area</th>\n",
       "      <th>mean smoothness</th>\n",
       "      <th>mean compactness</th>\n",
       "      <th>mean concavity</th>\n",
       "      <th>mean concave points</th>\n",
       "      <th>mean symmetry</th>\n",
       "      <th>mean fractal dimension</th>\n",
       "      <th>...</th>\n",
       "      <th>worst texture</th>\n",
       "      <th>worst perimeter</th>\n",
       "      <th>worst area</th>\n",
       "      <th>worst smoothness</th>\n",
       "      <th>worst compactness</th>\n",
       "      <th>worst concavity</th>\n",
       "      <th>worst concave points</th>\n",
       "      <th>worst symmetry</th>\n",
       "      <th>worst fractal dimension</th>\n",
       "      <th>target</th>\n",
       "    </tr>\n",
       "  </thead>\n",
       "  <tbody>\n",
       "    <tr>\n",
       "      <th>0</th>\n",
       "      <td>17.99</td>\n",
       "      <td>10.38</td>\n",
       "      <td>122.80</td>\n",
       "      <td>1001.0</td>\n",
       "      <td>0.11840</td>\n",
       "      <td>0.27760</td>\n",
       "      <td>0.3001</td>\n",
       "      <td>0.14710</td>\n",
       "      <td>0.2419</td>\n",
       "      <td>0.07871</td>\n",
       "      <td>...</td>\n",
       "      <td>17.33</td>\n",
       "      <td>184.60</td>\n",
       "      <td>2019.0</td>\n",
       "      <td>0.1622</td>\n",
       "      <td>0.6656</td>\n",
       "      <td>0.7119</td>\n",
       "      <td>0.2654</td>\n",
       "      <td>0.4601</td>\n",
       "      <td>0.11890</td>\n",
       "      <td>0</td>\n",
       "    </tr>\n",
       "    <tr>\n",
       "      <th>1</th>\n",
       "      <td>20.57</td>\n",
       "      <td>17.77</td>\n",
       "      <td>132.90</td>\n",
       "      <td>1326.0</td>\n",
       "      <td>0.08474</td>\n",
       "      <td>0.07864</td>\n",
       "      <td>0.0869</td>\n",
       "      <td>0.07017</td>\n",
       "      <td>0.1812</td>\n",
       "      <td>0.05667</td>\n",
       "      <td>...</td>\n",
       "      <td>23.41</td>\n",
       "      <td>158.80</td>\n",
       "      <td>1956.0</td>\n",
       "      <td>0.1238</td>\n",
       "      <td>0.1866</td>\n",
       "      <td>0.2416</td>\n",
       "      <td>0.1860</td>\n",
       "      <td>0.2750</td>\n",
       "      <td>0.08902</td>\n",
       "      <td>0</td>\n",
       "    </tr>\n",
       "    <tr>\n",
       "      <th>2</th>\n",
       "      <td>19.69</td>\n",
       "      <td>21.25</td>\n",
       "      <td>130.00</td>\n",
       "      <td>1203.0</td>\n",
       "      <td>0.10960</td>\n",
       "      <td>0.15990</td>\n",
       "      <td>0.1974</td>\n",
       "      <td>0.12790</td>\n",
       "      <td>0.2069</td>\n",
       "      <td>0.05999</td>\n",
       "      <td>...</td>\n",
       "      <td>25.53</td>\n",
       "      <td>152.50</td>\n",
       "      <td>1709.0</td>\n",
       "      <td>0.1444</td>\n",
       "      <td>0.4245</td>\n",
       "      <td>0.4504</td>\n",
       "      <td>0.2430</td>\n",
       "      <td>0.3613</td>\n",
       "      <td>0.08758</td>\n",
       "      <td>0</td>\n",
       "    </tr>\n",
       "    <tr>\n",
       "      <th>3</th>\n",
       "      <td>11.42</td>\n",
       "      <td>20.38</td>\n",
       "      <td>77.58</td>\n",
       "      <td>386.1</td>\n",
       "      <td>0.14250</td>\n",
       "      <td>0.28390</td>\n",
       "      <td>0.2414</td>\n",
       "      <td>0.10520</td>\n",
       "      <td>0.2597</td>\n",
       "      <td>0.09744</td>\n",
       "      <td>...</td>\n",
       "      <td>26.50</td>\n",
       "      <td>98.87</td>\n",
       "      <td>567.7</td>\n",
       "      <td>0.2098</td>\n",
       "      <td>0.8663</td>\n",
       "      <td>0.6869</td>\n",
       "      <td>0.2575</td>\n",
       "      <td>0.6638</td>\n",
       "      <td>0.17300</td>\n",
       "      <td>0</td>\n",
       "    </tr>\n",
       "    <tr>\n",
       "      <th>4</th>\n",
       "      <td>20.29</td>\n",
       "      <td>14.34</td>\n",
       "      <td>135.10</td>\n",
       "      <td>1297.0</td>\n",
       "      <td>0.10030</td>\n",
       "      <td>0.13280</td>\n",
       "      <td>0.1980</td>\n",
       "      <td>0.10430</td>\n",
       "      <td>0.1809</td>\n",
       "      <td>0.05883</td>\n",
       "      <td>...</td>\n",
       "      <td>16.67</td>\n",
       "      <td>152.20</td>\n",
       "      <td>1575.0</td>\n",
       "      <td>0.1374</td>\n",
       "      <td>0.2050</td>\n",
       "      <td>0.4000</td>\n",
       "      <td>0.1625</td>\n",
       "      <td>0.2364</td>\n",
       "      <td>0.07678</td>\n",
       "      <td>0</td>\n",
       "    </tr>\n",
       "  </tbody>\n",
       "</table>\n",
       "<p>5 rows × 31 columns</p>\n",
       "</div>"
      ],
      "text/plain": [
       "   mean radius  mean texture  mean perimeter  mean area  mean smoothness  \\\n",
       "0        17.99         10.38          122.80     1001.0          0.11840   \n",
       "1        20.57         17.77          132.90     1326.0          0.08474   \n",
       "2        19.69         21.25          130.00     1203.0          0.10960   \n",
       "3        11.42         20.38           77.58      386.1          0.14250   \n",
       "4        20.29         14.34          135.10     1297.0          0.10030   \n",
       "\n",
       "   mean compactness  mean concavity  mean concave points  mean symmetry  \\\n",
       "0           0.27760          0.3001              0.14710         0.2419   \n",
       "1           0.07864          0.0869              0.07017         0.1812   \n",
       "2           0.15990          0.1974              0.12790         0.2069   \n",
       "3           0.28390          0.2414              0.10520         0.2597   \n",
       "4           0.13280          0.1980              0.10430         0.1809   \n",
       "\n",
       "   mean fractal dimension  ...  worst texture  worst perimeter  worst area  \\\n",
       "0                 0.07871  ...          17.33           184.60      2019.0   \n",
       "1                 0.05667  ...          23.41           158.80      1956.0   \n",
       "2                 0.05999  ...          25.53           152.50      1709.0   \n",
       "3                 0.09744  ...          26.50            98.87       567.7   \n",
       "4                 0.05883  ...          16.67           152.20      1575.0   \n",
       "\n",
       "   worst smoothness  worst compactness  worst concavity  worst concave points  \\\n",
       "0            0.1622             0.6656           0.7119                0.2654   \n",
       "1            0.1238             0.1866           0.2416                0.1860   \n",
       "2            0.1444             0.4245           0.4504                0.2430   \n",
       "3            0.2098             0.8663           0.6869                0.2575   \n",
       "4            0.1374             0.2050           0.4000                0.1625   \n",
       "\n",
       "   worst symmetry  worst fractal dimension  target  \n",
       "0          0.4601                  0.11890       0  \n",
       "1          0.2750                  0.08902       0  \n",
       "2          0.3613                  0.08758       0  \n",
       "3          0.6638                  0.17300       0  \n",
       "4          0.2364                  0.07678       0  \n",
       "\n",
       "[5 rows x 31 columns]"
      ]
     },
     "execution_count": 2,
     "metadata": {},
     "output_type": "execute_result"
    }
   ],
   "source": [
    "# Load data from the sklearn datasets\n",
    "from sklearn.datasets import load_breast_cancer\n",
    "\n",
    "data = load_breast_cancer()\n",
    "df = pd.DataFrame(data.data, columns=data.feature_names)\n",
    "df['target'] = data.target\n",
    "df.head()"
   ]
  },
  {
   "cell_type": "code",
   "execution_count": 3,
   "id": "12022764-de9b-4425-b68f-e112939f455d",
   "metadata": {},
   "outputs": [
    {
     "name": "stdout",
     "output_type": "stream",
     "text": [
      "<class 'pandas.core.frame.DataFrame'>\n",
      "RangeIndex: 569 entries, 0 to 568\n",
      "Data columns (total 31 columns):\n",
      " #   Column                   Non-Null Count  Dtype  \n",
      "---  ------                   --------------  -----  \n",
      " 0   mean radius              569 non-null    float64\n",
      " 1   mean texture             569 non-null    float64\n",
      " 2   mean perimeter           569 non-null    float64\n",
      " 3   mean area                569 non-null    float64\n",
      " 4   mean smoothness          569 non-null    float64\n",
      " 5   mean compactness         569 non-null    float64\n",
      " 6   mean concavity           569 non-null    float64\n",
      " 7   mean concave points      569 non-null    float64\n",
      " 8   mean symmetry            569 non-null    float64\n",
      " 9   mean fractal dimension   569 non-null    float64\n",
      " 10  radius error             569 non-null    float64\n",
      " 11  texture error            569 non-null    float64\n",
      " 12  perimeter error          569 non-null    float64\n",
      " 13  area error               569 non-null    float64\n",
      " 14  smoothness error         569 non-null    float64\n",
      " 15  compactness error        569 non-null    float64\n",
      " 16  concavity error          569 non-null    float64\n",
      " 17  concave points error     569 non-null    float64\n",
      " 18  symmetry error           569 non-null    float64\n",
      " 19  fractal dimension error  569 non-null    float64\n",
      " 20  worst radius             569 non-null    float64\n",
      " 21  worst texture            569 non-null    float64\n",
      " 22  worst perimeter          569 non-null    float64\n",
      " 23  worst area               569 non-null    float64\n",
      " 24  worst smoothness         569 non-null    float64\n",
      " 25  worst compactness        569 non-null    float64\n",
      " 26  worst concavity          569 non-null    float64\n",
      " 27  worst concave points     569 non-null    float64\n",
      " 28  worst symmetry           569 non-null    float64\n",
      " 29  worst fractal dimension  569 non-null    float64\n",
      " 30  target                   569 non-null    int32  \n",
      "dtypes: float64(30), int32(1)\n",
      "memory usage: 135.7 KB\n"
     ]
    }
   ],
   "source": [
    "df.info()"
   ]
  },
  {
   "cell_type": "markdown",
   "id": "eccb7326-7d55-4eb8-afe0-0f2fa6c6078c",
   "metadata": {},
   "source": [
    "#### Null Value Control"
   ]
  },
  {
   "cell_type": "code",
   "execution_count": 4,
   "id": "5452844a-4bb6-4779-be8d-8ebb289f68b1",
   "metadata": {},
   "outputs": [
    {
     "data": {
      "text/plain": [
       "mean radius                0\n",
       "mean texture               0\n",
       "mean perimeter             0\n",
       "mean area                  0\n",
       "mean smoothness            0\n",
       "mean compactness           0\n",
       "mean concavity             0\n",
       "mean concave points        0\n",
       "mean symmetry              0\n",
       "mean fractal dimension     0\n",
       "radius error               0\n",
       "texture error              0\n",
       "perimeter error            0\n",
       "area error                 0\n",
       "smoothness error           0\n",
       "compactness error          0\n",
       "concavity error            0\n",
       "concave points error       0\n",
       "symmetry error             0\n",
       "fractal dimension error    0\n",
       "worst radius               0\n",
       "worst texture              0\n",
       "worst perimeter            0\n",
       "worst area                 0\n",
       "worst smoothness           0\n",
       "worst compactness          0\n",
       "worst concavity            0\n",
       "worst concave points       0\n",
       "worst symmetry             0\n",
       "worst fractal dimension    0\n",
       "target                     0\n",
       "dtype: int64"
      ]
     },
     "execution_count": 4,
     "metadata": {},
     "output_type": "execute_result"
    }
   ],
   "source": [
    "# Check if there are any null values, because:\n",
    "# Perceptron-like models are very sensitive to NULL/NaN/None values.\n",
    "# These cause uncalculable weights or incorrect calculations.\n",
    "# If any NULL/NaN/None exists among X1, X2, ..., Xn, this results in NULL/NaN/None values in the matrix calculations and may throw an error\n",
    "# (for example: ValueError, FloatingPointError, etc.).\n",
    "# As a result, NULL/NaN/None values block updating the perceptron's parameters.\n",
    "\n",
    "df.isnull().sum()"
   ]
  },
  {
   "cell_type": "code",
   "execution_count": 5,
   "id": "afd18335-be79-4f09-89e0-851ba7c34e44",
   "metadata": {},
   "outputs": [
    {
     "data": {
      "text/plain": [
       "<Axes: xlabel='target', ylabel='count'>"
      ]
     },
     "execution_count": 5,
     "metadata": {},
     "output_type": "execute_result"
    },
    {
     "data": {
      "image/png": "[encoded data removed]",
      "text/plain": [
       "<Figure size 800x700 with 1 Axes>"
      ]
     },
     "metadata": {},
     "output_type": "display_data"
    }
   ],
   "source": [
    "# Checking for imbalanced data:\n",
    "# Most classic models, like perceptron and regression, are also sensitive to imbalanced datasets.\n",
    "# That's why this problem should be addressed before starting modeling.\n",
    "# Common methods include:\n",
    "#   - Resampling: Using techniques like SMOTE to increase the minority class (oversampling), or reducing the majority class (undersampling).\n",
    "#   - Weighted Loss Function: Applying higher penalties to misclassified minority class samples.\n",
    "#   - Evaluating the model with metrics beyond accuracy, such as precision, recall, and F1-score.\n",
    "\n",
    "plt.figure(figsize = (8,7))\n",
    "sns.countplot(x=\"target\", hue=\"target\", data=df, palette=\"magma\", legend=False)"
   ]
  },
  {
   "cell_type": "code",
   "execution_count": 6,
   "id": "a978e26f-9728-4dfc-a9fe-a4df9001f468",
   "metadata": {},
   "outputs": [],
   "source": [
    "# Identifing the datasets\n",
    "\n",
    "df_ = df.iloc[:,:-1]\n",
    "dfy = df.iloc[:, -1]"
   ]
  },
  {
   "cell_type": "markdown",
   "id": "ea119f49-7950-49b7-b32f-92af15302d27",
   "metadata": {},
   "source": [
    "#### Splitting and Scaling Data"
   ]
  },
  {
   "cell_type": "code",
   "execution_count": 7,
   "id": "4245609e-674f-4383-8d9b-ebffe771ea15",
   "metadata": {},
   "outputs": [],
   "source": [
    "# Step 1 :\n",
    "from sklearn.model_selection import train_test_split\n",
    "\n",
    "x_train , x_test, y_train, y_test = train_test_split(df_, dfy, test_size = 0.2, random_state = 42)"
   ]
  },
  {
   "cell_type": "code",
   "execution_count": 8,
   "id": "c627bbb5-febe-4eb0-b2ca-38f313c5e1a7",
   "metadata": {},
   "outputs": [],
   "source": [
    "# Step 2 :\n",
    "\n",
    "# There is an important point to be careful about:\n",
    "# The difference between fit_transform and transform:\n",
    "# - fit_transform: Calculates the mean and standard deviation **from X_train** and transforms the training data.\n",
    "# - transform: Applies the transformation to X_test using the mean and standard deviation learned **from X_train**.\n",
    "# If you apply fit_transform directly on X_test, this causes \"data leakage.\"\n",
    "\n",
    "\n",
    "from sklearn.preprocessing import MinMaxScaler\n",
    "\n",
    "scale = MinMaxScaler()\n",
    "x_train_scaled = scale.fit_transform(x_train)\n",
    "x_test_scaled = scale.transform(x_test)"
   ]
  },
  {
   "cell_type": "markdown",
   "id": "c7aa461d-f591-4e99-9ab3-be93ecaf1cb8",
   "metadata": {},
   "source": [
    "#### Initializing the weights and bias"
   ]
  },
  {
   "cell_type": "code",
   "execution_count": 9,
   "id": "282e82a8-f4a0-40a2-8e17-fec9d8819f01",
   "metadata": {},
   "outputs": [
    {
     "data": {
      "text/plain": [
       "30"
      ]
     },
     "execution_count": 9,
     "metadata": {},
     "output_type": "execute_result"
    }
   ],
   "source": [
    "# Step 3 :\n",
    "# Identify the number of features (dimension) to initialize the weight matrix w with the correct shape.\n",
    "dimension = x_train_scaled.shape[1]\n",
    "dimension"
   ]
  },
  {
   "cell_type": "code",
   "execution_count": 10,
   "id": "5f137922-cbfc-4526-ad25-3ee96d8d195c",
   "metadata": {},
   "outputs": [],
   "source": [
    "# Step 4 :\n",
    "# Initialize the weight and bias values\n",
    "def intialize_w_b(dimension):\n",
    "    w = np.full((dimension,), 0.01)\n",
    "    b = 0\n",
    "    return w, b"
   ]
  },
  {
   "cell_type": "code",
   "execution_count": 11,
   "id": "06f5c527-d672-43d1-891a-5d72bcdb02e2",
   "metadata": {},
   "outputs": [],
   "source": [
    "# Step 5 :\n",
    "# Applied the initialize function :\n",
    "w , b = intialize_w_b(dimension)"
   ]
  },
  {
   "cell_type": "code",
   "execution_count": 12,
   "id": "b06a6758-09c1-480e-9eb7-8ec809554bdd",
   "metadata": {},
   "outputs": [
    {
     "name": "stdout",
     "output_type": "stream",
     "text": [
      "x_train_scaled shape...: (455, 30)\n",
      "x_test_scaled shape...: (114, 30)\n",
      "y_train shape...: (455,)\n",
      "y_test shape...: (114,)\n"
     ]
    }
   ],
   "source": [
    "# I cheked the shape of the data sets. That will be useful later calculations with matrixes.\n",
    "\n",
    "print(f'x_train_scaled shape...: {x_train_scaled.shape}')\n",
    "print(f'x_test_scaled shape...: {x_test_scaled.shape}')\n",
    "print(f'y_train shape...: {y_train.shape}')\n",
    "print(f'y_test shape...: {y_test.shape}')"
   ]
  },
  {
   "cell_type": "code",
   "execution_count": 13,
   "id": "74737bf2-b087-4f81-888c-e76e39328f06",
   "metadata": {},
   "outputs": [],
   "source": [
    "# Step 6 :\n",
    "# Identified the zed function for the forward propagation. It will be the part of the calculation.\n",
    "def zed(w, x_train_scaled, b):\n",
    "    z = x_train_scaled.dot(w) + b\n",
    "    return z"
   ]
  },
  {
   "cell_type": "code",
   "execution_count": 14,
   "id": "3dfbdd9f-851d-45c5-b670-8a8b2de14b90",
   "metadata": {},
   "outputs": [
    {
     "data": {
      "text/plain": [
       "(455,)"
      ]
     },
     "execution_count": 14,
     "metadata": {},
     "output_type": "execute_result"
    }
   ],
   "source": [
    "z_tr = zed(w, x_train_scaled, b)\n",
    "z_tr.shape"
   ]
  },
  {
   "cell_type": "code",
   "execution_count": 15,
   "id": "e42df3b6-860c-4504-b86c-f9cd86e1c612",
   "metadata": {},
   "outputs": [],
   "source": [
    "# Step 7 :\n",
    "# Identified the sigmoid function.\n",
    "\n",
    "#           σ(x) = 1 / (1 + e^-z)  \n",
    "\n",
    "# Output is always between 0 and 1 (0-1)\n",
    "# Is is S curve graph\n",
    "# \n",
    "def sigmoid(z):\n",
    "    y_head = 1 / (1 + np.exp(-z))\n",
    "    return y_head"
   ]
  },
  {
   "cell_type": "code",
   "execution_count": 16,
   "id": "d9f2a201-7e8d-435c-ae89-df222ef5da99",
   "metadata": {},
   "outputs": [
    {
     "data": {
      "text/plain": [
       "(455,)"
      ]
     },
     "execution_count": 16,
     "metadata": {},
     "output_type": "execute_result"
    }
   ],
   "source": [
    "# Step 8:\n",
    "# Applied the sigmoid function to the z values.\n",
    "# This transforms raw scores into probability values between 0 and 1.\n",
    "y_head = sigmoid(z_tr)\n",
    "\n",
    "# Reshaped y_head to a 1D vector for element-wise operations \n",
    "# and to match the shape of y_true during loss calculation.\n",
    "y_head = y_head.reshape(-1)\n",
    "y_head.shape"
   ]
  },
  {
   "cell_type": "code",
   "execution_count": 17,
   "id": "f3cdc8b4-73a6-4c1d-8035-be13dc1917c9",
   "metadata": {},
   "outputs": [],
   "source": [
    "# Step 9:\n",
    "# Forward Propagation Step\n",
    "# in order to calculate the weights and biases and cost value  :\n",
    "def forward_propagation(w,b, x_train_scaled, y_head, y_train):\n",
    "    loss = -y_train * np.log(y_head) - (1 - y_train) * np.log(1 - y_head)\n",
    "    cost = np.sum(loss) / x_train_scaled.shape[0]\n",
    "    return cost"
   ]
  },
  {
   "cell_type": "code",
   "execution_count": 18,
   "id": "184253e2-bd5f-449b-a898-ad2352faa572",
   "metadata": {},
   "outputs": [
    {
     "name": "stdout",
     "output_type": "stream",
     "text": [
      "Cost Value...: 0.6949844001196673\n"
     ]
    }
   ],
   "source": [
    "# Step 10 :\n",
    "# Calculation of  Cost value:\n",
    "cost = forward_propagation(w,b, x_train_scaled, y_head, y_train)\n",
    "print(f'Cost Value...: {cost}')"
   ]
  },
  {
   "cell_type": "code",
   "execution_count": 19,
   "id": "e9b29aa1-61c1-4f11-84a7-182360e5c479",
   "metadata": {},
   "outputs": [],
   "source": [
    "# Step 11 :\n",
    "# Backpropagation step:\n",
    "# Computed the gradients of the loss function with respect to weights and bias.\n",
    "def back_propagation(x_train_scaled, y_train):\n",
    "    # These represent the partial derivatives dw = ∂L/∂w and db = ∂L/∂b, respectively.\n",
    "    dw = (x_train_scaled.T).dot(((y_head-y_train)))/x_train_scaled.shape[0] \n",
    "    db = np.sum(y_head-y_train)/x_train_scaled.shape[0] \n",
    "    #gradients = {\"derivative_weight\": derivative_weight,\"derivative_bias\": derivative_bias}\n",
    "    return dw, db"
   ]
  },
  {
   "cell_type": "code",
   "execution_count": 20,
   "id": "49382ad4-0a40-49f8-9403-512e7227442c",
   "metadata": {},
   "outputs": [
    {
     "data": {
      "text/plain": [
       "(array([ 0.02605381, -0.00604854,  0.02742051,  0.02888889, -0.01977355,\n",
       "         0.02044274,  0.0395879 ,  0.04573314, -0.01276596, -0.03049883,\n",
       "         0.01558964, -0.02064539,  0.01446199,  0.01555066, -0.02264232,\n",
       "        -0.00163174, -0.00037942, -0.00247258, -0.02559334, -0.00895618,\n",
       "         0.03542324, -0.00288572,  0.03481295,  0.03193699, -0.01219212,\n",
       "         0.02195093,  0.0291955 ,  0.04349479, -0.0023122 , -0.00358517]),\n",
       " -0.11060237343342817)"
      ]
     },
     "execution_count": 20,
     "metadata": {},
     "output_type": "execute_result"
    }
   ],
   "source": [
    "back_propagation(x_train_scaled, y_train)"
   ]
  },
  {
   "cell_type": "code",
   "execution_count": 21,
   "id": "360b5158-2cf8-4fb2-a05f-525ead1d2208",
   "metadata": {},
   "outputs": [
    {
     "name": "stdout",
     "output_type": "stream",
     "text": [
      "Epoch    0  Cost: 0.6950\n",
      "Epoch  100  Cost: 0.2866\n",
      "Epoch  200  Cost: 0.2208\n",
      "Epoch  300  Cost: 0.1908\n",
      "Epoch  400  Cost: 0.1724\n",
      "Epoch  500  Cost: 0.1595\n",
      "Epoch  600  Cost: 0.1498\n",
      "Epoch  700  Cost: 0.1421\n",
      "Epoch  800  Cost: 0.1358\n",
      "Epoch  900  Cost: 0.1305\n"
     ]
    },
    {
     "data": {
      "image/png": "[encoded data removed]",
      "text/plain": [
       "<Figure size 640x480 with 1 Axes>"
      ]
     },
     "metadata": {},
     "output_type": "display_data"
    }
   ],
   "source": [
    "# Step 12 :\n",
    "# Prdiction of the Model and Cost vs Epochs Plot\n",
    "\n",
    "lr = 0.5 # Learning Rate \n",
    "epochs = 1000\n",
    "costs = []\n",
    "for epoch in range(epochs):\n",
    "    \n",
    "    z = np.dot(x_train_scaled, w) + b\n",
    "    y_head = sigmoid(z)\n",
    "    \n",
    "    # forward propagation :\n",
    "    cost = forward_propagation(w,b, x_train_scaled, y_head, y_train)\n",
    "\n",
    "    #back propagation:\n",
    "    dw, db = back_propagation(x_train_scaled, y_train)\n",
    "\n",
    "\n",
    "    #updating w and b :\n",
    "    w -= lr * dw\n",
    "    b -= lr * db\n",
    "\n",
    "    costs.append(cost)\n",
    "    \n",
    "    # epochs watch :\n",
    "    if epoch % 100 == 0:\n",
    "        print(f\"Epoch {epoch:4d}  Cost: {cost:.4f}\")\n",
    "\n",
    "\n",
    "import matplotlib.pyplot as plt\n",
    "plt.plot(range(epochs), costs)\n",
    "plt.xlabel('Epoch')\n",
    "plt.ylabel('Cost')\n",
    "plt.title('Cost vs. Epoch')\n",
    "plt.show()\n",
    "\n",
    "    "
   ]
  },
  {
   "cell_type": "markdown",
   "id": "3edfa299-eedd-4a59-8812-0a4a37be2ffc",
   "metadata": {},
   "source": [
    "### 📉 Cost vs. Epoch\n",
    "\n",
    "The graph above shows how the cost value decreases over the training epochs. As seen in the curve, the loss drops significantly in the early epochs, especially between 0 and 200. After around the **800th epoch**, the improvement becomes marginal and the curve starts to **plateau**, indicating that the model is no longer learning meaningful patterns from the data.\n",
    "\n",
    "This is a good place to implement **early stopping**, a technique where training is halted once the cost no longer improves significantly. This helps save computation time and prevents overfitting by stopping the training before the model begins to memorize the data.\n"
   ]
  },
  {
   "cell_type": "code",
   "execution_count": 22,
   "id": "6934b190-a2f3-43a9-8b52-23d83983e3d4",
   "metadata": {},
   "outputs": [],
   "source": [
    "# Step 13 :\n",
    "# Calculate model predictions on the test dataset to evaluate generalization performance:\n",
    "z_test = x_test_scaled.dot(w) + b\n",
    "y_head_test = sigmoid(z_test).reshape(-1)"
   ]
  },
  {
   "cell_type": "markdown",
   "id": "6e7344b9-09ea-41b4-92f7-c41d91332173",
   "metadata": {},
   "source": [
    "#### **Manuel Model Results:**"
   ]
  },
  {
   "cell_type": "code",
   "execution_count": 23,
   "id": "23f3981a-475c-4b09-ab74-f0e4702dcf26",
   "metadata": {},
   "outputs": [],
   "source": [
    "from sklearn.metrics import accuracy_score, confusion_matrix, classification_report"
   ]
  },
  {
   "cell_type": "code",
   "execution_count": 24,
   "id": "29c24bf3-5f30-4dd1-a746-0273c738d3fb",
   "metadata": {},
   "outputs": [
    {
     "data": {
      "image/png": "[encoded data removed]",
      "text/plain": [
       "<Figure size 640x480 with 1 Axes>"
      ]
     },
     "metadata": {},
     "output_type": "display_data"
    }
   ],
   "source": [
    "# Step 14 Evaluation of the Manuel Model :\n",
    "# By default, the classification threshold is set to 0.5.\n",
    "# Model predictions above 0.5 are classified as class 1 (positive), below as class 0 (negative).\n",
    "\n",
    "from sklearn.metrics import roc_curve, auc\n",
    "import matplotlib.pyplot as plt\n",
    "\n",
    "fpr, tpr, thresholds = roc_curve(y_test, y_head_test)\n",
    "roc_auc = auc(fpr, tpr)\n",
    "\n",
    "plt.plot(fpr, tpr, label='AUC = %0.2f' % roc_auc)\n",
    "plt.plot([0, 1], [0, 1],'r--')\n",
    "plt.xlabel('False Positive Rate')\n",
    "plt.ylabel('True Positive Rate')\n",
    "plt.title('ROC Curve')\n",
    "plt.legend()\n",
    "plt.show()\n",
    "\n",
    "\n"
   ]
  },
  {
   "cell_type": "markdown",
   "id": "eab08518-4219-48c1-8580-96b27e9e24c8",
   "metadata": {},
   "source": [
    "**The ROC Curve** appears to perfectly predict the model’s performance. However, in real-world scenarios, such a result should be a warning sign indicating potential overfitting or data leakage. In this case, our sample comes from the popular Breast Cancer Dataset, which is loaded via the sklearn dataset library. This is because the dataset is perfectly split, contains no noise, and is well-balanced. Additionally, this dataset is specifically designed for educational purposes."
   ]
  },
  {
   "cell_type": "code",
   "execution_count": 25,
   "id": "c07c4b31-30a1-49a7-a89e-33262fd7f8ed",
   "metadata": {},
   "outputs": [
    {
     "data": {
      "image/png": "[encoded data removed]",
      "text/plain": [
       "<Figure size 600x400 with 2 Axes>"
      ]
     },
     "metadata": {},
     "output_type": "display_data"
    },
    {
     "name": "stdout",
     "output_type": "stream",
     "text": [
      "[[41  2]\n",
      " [ 1 70]]\n",
      "              precision    recall  f1-score   support\n",
      "\n",
      "           0       0.98      0.95      0.96        43\n",
      "           1       0.97      0.99      0.98        71\n",
      "\n",
      "    accuracy                           0.97       114\n",
      "   macro avg       0.97      0.97      0.97       114\n",
      "weighted avg       0.97      0.97      0.97       114\n",
      "\n"
     ]
    }
   ],
   "source": [
    "# Identified confusion matrix for the default value 0.5\n",
    "\n",
    "y_pred_test = (y_head_test >= 0.5).astype(int)\n",
    "\n",
    "cm = confusion_matrix(y_test, y_pred_test)\n",
    "\n",
    "plt.figure(figsize=(6,4))\n",
    "sns.heatmap(cm, annot=True, fmt='d', cmap='Blues')\n",
    "plt.xlabel('Predicted Label')\n",
    "plt.ylabel('True Label')\n",
    "plt.title('Confusion Matrix for 0.5 threshold Value')\n",
    "plt.show()\n",
    "\n",
    "print(confusion_matrix(y_test, y_pred_test))\n",
    "print(classification_report(y_test, y_pred_test))\n",
    "\n"
   ]
  },
  {
   "cell_type": "markdown",
   "id": "2926b8df-ff1f-4d1f-a5e8-f387b1c40905",
   "metadata": {},
   "source": [
    "- The model’s predictions are highly successful, achieving an accuracy of 0.97. This means the model can correctly classify breast cancer patients with an accuracy rate of 98%.<br>\n",
    "- First and foremost, we should emphasize the recall and precision scores to better understand how well the model generalizes. The recall score for the positive class (99%) demonstrates that the model is highly sensitive in identifying patients with cancer, successfully detecting almost all true cases.\n",
    "- Precision is also emphasized in order to better understand and evaluate the predicted model. The precision score tells us that, of the patients the model predicted as having cancer, 97% actually had cancer, and only 3% were not real patients."
   ]
  },
  {
   "cell_type": "code",
   "execution_count": 26,
   "id": "aa53c65e-a8af-4b76-aa2c-bdbbcc839657",
   "metadata": {},
   "outputs": [],
   "source": [
    "# I set the threshold value to 0.4.\n",
    "# In cancer detection tasks, it is safer to use a lower threshold to reduce false negatives,\n",
    "# ensuring that fewer actual cancer cases are missed, even if this leads to more false positives.\n",
    "# Note: Lowering the threshold increases the model’s sensitivity (recall), \n",
    "# which is especially important in cancer detection to minimize the number of missed positive cases.\n",
    "y_head_class = [1 if prob >= 0.4 else 0 for prob in y_head_test]"
   ]
  },
  {
   "cell_type": "code",
   "execution_count": 27,
   "id": "74ec2a0a-ac72-478f-8421-680535c577ef",
   "metadata": {},
   "outputs": [
    {
     "data": {
      "text/plain": [
       "114"
      ]
     },
     "execution_count": 27,
     "metadata": {},
     "output_type": "execute_result"
    }
   ],
   "source": [
    "len(y_head_class)"
   ]
  },
  {
   "cell_type": "code",
   "execution_count": 28,
   "id": "880fa437-17f8-4d9b-97a5-c8ceae105e42",
   "metadata": {},
   "outputs": [
    {
     "data": {
      "image/png": "[encoded data removed]",
      "text/plain": [
       "<Figure size 640x480 with 1 Axes>"
      ]
     },
     "metadata": {},
     "output_type": "display_data"
    }
   ],
   "source": [
    "# Checking the ROC Curve again after the threshold update to 0.4 value\n",
    "fpr, tpr, thresholds = roc_curve(y_test, y_head_class)\n",
    "roc_auc = auc(fpr, tpr)\n",
    "\n",
    "plt.plot(fpr, tpr, label='AUC = %0.2f' % roc_auc)\n",
    "plt.plot([0, 1], [0, 1],'r--')\n",
    "plt.xlabel('False Positive Rate')\n",
    "plt.ylabel('True Positive Rate')\n",
    "plt.title('ROC Curve')\n",
    "plt.legend()\n",
    "plt.show()"
   ]
  },
  {
   "cell_type": "markdown",
   "id": "2445713a-f59b-4c34-ba95-33e8a4a155eb",
   "metadata": {},
   "source": [
    "**The ROC Curve after setting the threshold to 0.4** shows that the model works very well. The blue line is almost at the top, which means the model can find most cancer patients correctly. The AUC value is 0.97. This shows that the model is very good at separating cancer and non-cancer patients. In other words, the model can correctly identify 97% of the real cancer patients."
   ]
  },
  {
   "cell_type": "code",
   "execution_count": 29,
   "id": "fe1f7617-8789-453d-b074-9c2db979b6d9",
   "metadata": {},
   "outputs": [
    {
     "data": {
      "image/png": "[encoded data removed]",
      "text/plain": [
       "<Figure size 600x400 with 2 Axes>"
      ]
     },
     "metadata": {},
     "output_type": "display_data"
    },
    {
     "name": "stdout",
     "output_type": "stream",
     "text": [
      "[[40  3]\n",
      " [ 0 71]]\n",
      "              precision    recall  f1-score   support\n",
      "\n",
      "           0       1.00      0.93      0.96        43\n",
      "           1       0.96      1.00      0.98        71\n",
      "\n",
      "    accuracy                           0.97       114\n",
      "   macro avg       0.98      0.97      0.97       114\n",
      "weighted avg       0.97      0.97      0.97       114\n",
      "\n"
     ]
    }
   ],
   "source": [
    "\n",
    "\n",
    "# Identified confusion matrix\n",
    "cm = confusion_matrix(y_test, y_head_class)\n",
    "\n",
    "plt.figure(figsize=(6,4))\n",
    "sns.heatmap(cm, annot=True, fmt='d', cmap='Blues')\n",
    "plt.xlabel('Predicted Label')\n",
    "plt.ylabel('True Label')\n",
    "plt.title('Confusion Matrix for 0.4 threshold Value')\n",
    "plt.show()\n",
    "\n",
    "print(confusion_matrix(y_test, y_head_class))\n",
    "print(classification_report(y_test, y_head_class))\n",
    "\n"
   ]
  },
  {
   "cell_type": "markdown",
   "id": "e4ce2486-02b3-4ba9-87c5-3f832cfc0fa6",
   "metadata": {},
   "source": [
    "- The accuracy of the model is 0.97. This result means the model performs well, but accuracy by itself does not show the full picture. For a better evaluation, it is important to check both the recall and precision scores as well.<br>\n",
    "When the recall is checked, we see a score of 100%. This shows that the model did not miss any cancer patients; it correctly found all of them.\n",
    "- On the other hand, when we check the precision score, it is 96%. This means that 96% of the patients the model predicted as having cancer actually have cancer. In other words, only 4% of the predicted cancer patients were not real cancer patients (false positives).<br>\n",
    "- Additionally, if the dataset is not balanced or the classes are not well separated, it is important to check the F1 score. The F1 score helps us understand the balance between precision and recall."
   ]
  },
  {
   "cell_type": "markdown",
   "id": "b646f583-1560-4829-a3aa-f81af1e0d81f",
   "metadata": {},
   "source": [
    "#### **Sklearn Model Results:**"
   ]
  },
  {
   "cell_type": "code",
   "execution_count": 30,
   "id": "81f107b2-ac5e-497a-8fa2-bc47d011865d",
   "metadata": {},
   "outputs": [],
   "source": [
    "from sklearn import linear_model\n",
    "l_model = linear_model\n",
    "log_reg = linear_model.LogisticRegression(random_state = 42,max_iter= 200)"
   ]
  },
  {
   "cell_type": "code",
   "execution_count": 31,
   "id": "5a1f4cb2-adb6-43e7-b48a-9b09365144bb",
   "metadata": {},
   "outputs": [
    {
     "data": {
      "text/html": [
       "<style>#sk-container-id-1 {\n",
       "  /* Definition of color scheme common for light and dark mode */\n",
       "  --sklearn-color-text: black;\n",
       "  --sklearn-color-line: gray;\n",
       "  /* Definition of color scheme for unfitted estimators */\n",
       "  --sklearn-color-unfitted-level-0: #fff5e6;\n",
       "  --sklearn-color-unfitted-level-1: #f6e4d2;\n",
       "  --sklearn-color-unfitted-level-2: #ffe0b3;\n",
       "  --sklearn-color-unfitted-level-3: chocolate;\n",
       "  /* Definition of color scheme for fitted estimators */\n",
       "  --sklearn-color-fitted-level-0: #f0f8ff;\n",
       "  --sklearn-color-fitted-level-1: #d4ebff;\n",
       "  --sklearn-color-fitted-level-2: #b3dbfd;\n",
       "  --sklearn-color-fitted-level-3: cornflowerblue;\n",
       "\n",
       "  /* Specific color for light theme */\n",
       "  --sklearn-color-text-on-default-background: var(--sg-text-color, var(--theme-code-foreground, var(--jp-content-font-color1, black)));\n",
       "  --sklearn-color-background: var(--sg-background-color, var(--theme-background, var(--jp-layout-color0, white)));\n",
       "  --sklearn-color-border-box: var(--sg-text-color, var(--theme-code-foreground, var(--jp-content-font-color1, black)));\n",
       "  --sklearn-color-icon: #696969;\n",
       "\n",
       "  @media (prefers-color-scheme: dark) {\n",
       "    /* Redefinition of color scheme for dark theme */\n",
       "    --sklearn-color-text-on-default-background: var(--sg-text-color, var(--theme-code-foreground, var(--jp-content-font-color1, white)));\n",
       "    --sklearn-color-background: var(--sg-background-color, var(--theme-background, var(--jp-layout-color0, #111)));\n",
       "    --sklearn-color-border-box: var(--sg-text-color, var(--theme-code-foreground, var(--jp-content-font-color1, white)));\n",
       "    --sklearn-color-icon: #878787;\n",
       "  }\n",
       "}\n",
       "\n",
       "#sk-container-id-1 {\n",
       "  color: var(--sklearn-color-text);\n",
       "}\n",
       "\n",
       "#sk-container-id-1 pre {\n",
       "  padding: 0;\n",
       "}\n",
       "\n",
       "#sk-container-id-1 input.sk-hidden--visually {\n",
       "  border: 0;\n",
       "  clip: rect(1px 1px 1px 1px);\n",
       "  clip: rect(1px, 1px, 1px, 1px);\n",
       "  height: 1px;\n",
       "  margin: -1px;\n",
       "  overflow: hidden;\n",
       "  padding: 0;\n",
       "  position: absolute;\n",
       "  width: 1px;\n",
       "}\n",
       "\n",
       "#sk-container-id-1 div.sk-dashed-wrapped {\n",
       "  border: 1px dashed var(--sklearn-color-line);\n",
       "  margin: 0 0.4em 0.5em 0.4em;\n",
       "  box-sizing: border-box;\n",
       "  padding-bottom: 0.4em;\n",
       "  background-color: var(--sklearn-color-background);\n",
       "}\n",
       "\n",
       "#sk-container-id-1 div.sk-container {\n",
       "  /* jupyter's `normalize.less` sets `[hidden] { display: none; }`\n",
       "     but bootstrap.min.css set `[hidden] { display: none !important; }`\n",
       "     so we also need the `!important` here to be able to override the\n",
       "     default hidden behavior on the sphinx rendered scikit-learn.org.\n",
       "     See: https://github.com/scikit-learn/scikit-learn/issues/21755 */\n",
       "  display: inline-block !important;\n",
       "  position: relative;\n",
       "}\n",
       "\n",
       "#sk-container-id-1 div.sk-text-repr-fallback {\n",
       "  display: none;\n",
       "}\n",
       "\n",
       "div.sk-parallel-item,\n",
       "div.sk-serial,\n",
       "div.sk-item {\n",
       "  /* draw centered vertical line to link estimators */\n",
       "  background-image: linear-gradient(var(--sklearn-color-text-on-default-background), var(--sklearn-color-text-on-default-background));\n",
       "  background-size: 2px 100%;\n",
       "  background-repeat: no-repeat;\n",
       "  background-position: center center;\n",
       "}\n",
       "\n",
       "/* Parallel-specific style estimator block */\n",
       "\n",
       "#sk-container-id-1 div.sk-parallel-item::after {\n",
       "  content: \"\";\n",
       "  width: 100%;\n",
       "  border-bottom: 2px solid var(--sklearn-color-text-on-default-background);\n",
       "  flex-grow: 1;\n",
       "}\n",
       "\n",
       "#sk-container-id-1 div.sk-parallel {\n",
       "  display: flex;\n",
       "  align-items: stretch;\n",
       "  justify-content: center;\n",
       "  background-color: var(--sklearn-color-background);\n",
       "  position: relative;\n",
       "}\n",
       "\n",
       "#sk-container-id-1 div.sk-parallel-item {\n",
       "  display: flex;\n",
       "  flex-direction: column;\n",
       "}\n",
       "\n",
       "#sk-container-id-1 div.sk-parallel-item:first-child::after {\n",
       "  align-self: flex-end;\n",
       "  width: 50%;\n",
       "}\n",
       "\n",
       "#sk-container-id-1 div.sk-parallel-item:last-child::after {\n",
       "  align-self: flex-start;\n",
       "  width: 50%;\n",
       "}\n",
       "\n",
       "#sk-container-id-1 div.sk-parallel-item:only-child::after {\n",
       "  width: 0;\n",
       "}\n",
       "\n",
       "/* Serial-specific style estimator block */\n",
       "\n",
       "#sk-container-id-1 div.sk-serial {\n",
       "  display: flex;\n",
       "  flex-direction: column;\n",
       "  align-items: center;\n",
       "  background-color: var(--sklearn-color-background);\n",
       "  padding-right: 1em;\n",
       "  padding-left: 1em;\n",
       "}\n",
       "\n",
       "\n",
       "/* Toggleable style: style used for estimator/Pipeline/ColumnTransformer box that is\n",
       "clickable and can be expanded/collapsed.\n",
       "- Pipeline and ColumnTransformer use this feature and define the default style\n",
       "- Estimators will overwrite some part of the style using the `sk-estimator` class\n",
       "*/\n",
       "\n",
       "/* Pipeline and ColumnTransformer style (default) */\n",
       "\n",
       "#sk-container-id-1 div.sk-toggleable {\n",
       "  /* Default theme specific background. It is overwritten whether we have a\n",
       "  specific estimator or a Pipeline/ColumnTransformer */\n",
       "  background-color: var(--sklearn-color-background);\n",
       "}\n",
       "\n",
       "/* Toggleable label */\n",
       "#sk-container-id-1 label.sk-toggleable__label {\n",
       "  cursor: pointer;\n",
       "  display: block;\n",
       "  width: 100%;\n",
       "  margin-bottom: 0;\n",
       "  padding: 0.5em;\n",
       "  box-sizing: border-box;\n",
       "  text-align: center;\n",
       "}\n",
       "\n",
       "#sk-container-id-1 label.sk-toggleable__label-arrow:before {\n",
       "  /* Arrow on the left of the label */\n",
       "  content: \"▸\";\n",
       "  float: left;\n",
       "  margin-right: 0.25em;\n",
       "  color: var(--sklearn-color-icon);\n",
       "}\n",
       "\n",
       "#sk-container-id-1 label.sk-toggleable__label-arrow:hover:before {\n",
       "  color: var(--sklearn-color-text);\n",
       "}\n",
       "\n",
       "/* Toggleable content - dropdown */\n",
       "\n",
       "#sk-container-id-1 div.sk-toggleable__content {\n",
       "  max-height: 0;\n",
       "  max-width: 0;\n",
       "  overflow: hidden;\n",
       "  text-align: left;\n",
       "  /* unfitted */\n",
       "  background-color: var(--sklearn-color-unfitted-level-0);\n",
       "}\n",
       "\n",
       "#sk-container-id-1 div.sk-toggleable__content.fitted {\n",
       "  /* fitted */\n",
       "  background-color: var(--sklearn-color-fitted-level-0);\n",
       "}\n",
       "\n",
       "#sk-container-id-1 div.sk-toggleable__content pre {\n",
       "  margin: 0.2em;\n",
       "  border-radius: 0.25em;\n",
       "  color: var(--sklearn-color-text);\n",
       "  /* unfitted */\n",
       "  background-color: var(--sklearn-color-unfitted-level-0);\n",
       "}\n",
       "\n",
       "#sk-container-id-1 div.sk-toggleable__content.fitted pre {\n",
       "  /* unfitted */\n",
       "  background-color: var(--sklearn-color-fitted-level-0);\n",
       "}\n",
       "\n",
       "#sk-container-id-1 input.sk-toggleable__control:checked~div.sk-toggleable__content {\n",
       "  /* Expand drop-down */\n",
       "  max-height: 200px;\n",
       "  max-width: 100%;\n",
       "  overflow: auto;\n",
       "}\n",
       "\n",
       "#sk-container-id-1 input.sk-toggleable__control:checked~label.sk-toggleable__label-arrow:before {\n",
       "  content: \"▾\";\n",
       "}\n",
       "\n",
       "/* Pipeline/ColumnTransformer-specific style */\n",
       "\n",
       "#sk-container-id-1 div.sk-label input.sk-toggleable__control:checked~label.sk-toggleable__label {\n",
       "  color: var(--sklearn-color-text);\n",
       "  background-color: var(--sklearn-color-unfitted-level-2);\n",
       "}\n",
       "\n",
       "#sk-container-id-1 div.sk-label.fitted input.sk-toggleable__control:checked~label.sk-toggleable__label {\n",
       "  background-color: var(--sklearn-color-fitted-level-2);\n",
       "}\n",
       "\n",
       "/* Estimator-specific style */\n",
       "\n",
       "/* Colorize estimator box */\n",
       "#sk-container-id-1 div.sk-estimator input.sk-toggleable__control:checked~label.sk-toggleable__label {\n",
       "  /* unfitted */\n",
       "  background-color: var(--sklearn-color-unfitted-level-2);\n",
       "}\n",
       "\n",
       "#sk-container-id-1 div.sk-estimator.fitted input.sk-toggleable__control:checked~label.sk-toggleable__label {\n",
       "  /* fitted */\n",
       "  background-color: var(--sklearn-color-fitted-level-2);\n",
       "}\n",
       "\n",
       "#sk-container-id-1 div.sk-label label.sk-toggleable__label,\n",
       "#sk-container-id-1 div.sk-label label {\n",
       "  /* The background is the default theme color */\n",
       "  color: var(--sklearn-color-text-on-default-background);\n",
       "}\n",
       "\n",
       "/* On hover, darken the color of the background */\n",
       "#sk-container-id-1 div.sk-label:hover label.sk-toggleable__label {\n",
       "  color: var(--sklearn-color-text);\n",
       "  background-color: var(--sklearn-color-unfitted-level-2);\n",
       "}\n",
       "\n",
       "/* Label box, darken color on hover, fitted */\n",
       "#sk-container-id-1 div.sk-label.fitted:hover label.sk-toggleable__label.fitted {\n",
       "  color: var(--sklearn-color-text);\n",
       "  background-color: var(--sklearn-color-fitted-level-2);\n",
       "}\n",
       "\n",
       "/* Estimator label */\n",
       "\n",
       "#sk-container-id-1 div.sk-label label {\n",
       "  font-family: monospace;\n",
       "  font-weight: bold;\n",
       "  display: inline-block;\n",
       "  line-height: 1.2em;\n",
       "}\n",
       "\n",
       "#sk-container-id-1 div.sk-label-container {\n",
       "  text-align: center;\n",
       "}\n",
       "\n",
       "/* Estimator-specific */\n",
       "#sk-container-id-1 div.sk-estimator {\n",
       "  font-family: monospace;\n",
       "  border: 1px dotted var(--sklearn-color-border-box);\n",
       "  border-radius: 0.25em;\n",
       "  box-sizing: border-box;\n",
       "  margin-bottom: 0.5em;\n",
       "  /* unfitted */\n",
       "  background-color: var(--sklearn-color-unfitted-level-0);\n",
       "}\n",
       "\n",
       "#sk-container-id-1 div.sk-estimator.fitted {\n",
       "  /* fitted */\n",
       "  background-color: var(--sklearn-color-fitted-level-0);\n",
       "}\n",
       "\n",
       "/* on hover */\n",
       "#sk-container-id-1 div.sk-estimator:hover {\n",
       "  /* unfitted */\n",
       "  background-color: var(--sklearn-color-unfitted-level-2);\n",
       "}\n",
       "\n",
       "#sk-container-id-1 div.sk-estimator.fitted:hover {\n",
       "  /* fitted */\n",
       "  background-color: var(--sklearn-color-fitted-level-2);\n",
       "}\n",
       "\n",
       "/* Specification for estimator info (e.g. \"i\" and \"?\") */\n",
       "\n",
       "/* Common style for \"i\" and \"?\" */\n",
       "\n",
       ".sk-estimator-doc-link,\n",
       "a:link.sk-estimator-doc-link,\n",
       "a:visited.sk-estimator-doc-link {\n",
       "  float: right;\n",
       "  font-size: smaller;\n",
       "  line-height: 1em;\n",
       "  font-family: monospace;\n",
       "  background-color: var(--sklearn-color-background);\n",
       "  border-radius: 1em;\n",
       "  height: 1em;\n",
       "  width: 1em;\n",
       "  text-decoration: none !important;\n",
       "  margin-left: 1ex;\n",
       "  /* unfitted */\n",
       "  border: var(--sklearn-color-unfitted-level-1) 1pt solid;\n",
       "  color: var(--sklearn-color-unfitted-level-1);\n",
       "}\n",
       "\n",
       ".sk-estimator-doc-link.fitted,\n",
       "a:link.sk-estimator-doc-link.fitted,\n",
       "a:visited.sk-estimator-doc-link.fitted {\n",
       "  /* fitted */\n",
       "  border: var(--sklearn-color-fitted-level-1) 1pt solid;\n",
       "  color: var(--sklearn-color-fitted-level-1);\n",
       "}\n",
       "\n",
       "/* On hover */\n",
       "div.sk-estimator:hover .sk-estimator-doc-link:hover,\n",
       ".sk-estimator-doc-link:hover,\n",
       "div.sk-label-container:hover .sk-estimator-doc-link:hover,\n",
       ".sk-estimator-doc-link:hover {\n",
       "  /* unfitted */\n",
       "  background-color: var(--sklearn-color-unfitted-level-3);\n",
       "  color: var(--sklearn-color-background);\n",
       "  text-decoration: none;\n",
       "}\n",
       "\n",
       "div.sk-estimator.fitted:hover .sk-estimator-doc-link.fitted:hover,\n",
       ".sk-estimator-doc-link.fitted:hover,\n",
       "div.sk-label-container:hover .sk-estimator-doc-link.fitted:hover,\n",
       ".sk-estimator-doc-link.fitted:hover {\n",
       "  /* fitted */\n",
       "  background-color: var(--sklearn-color-fitted-level-3);\n",
       "  color: var(--sklearn-color-background);\n",
       "  text-decoration: none;\n",
       "}\n",
       "\n",
       "/* Span, style for the box shown on hovering the info icon */\n",
       ".sk-estimator-doc-link span {\n",
       "  display: none;\n",
       "  z-index: 9999;\n",
       "  position: relative;\n",
       "  font-weight: normal;\n",
       "  right: .2ex;\n",
       "  padding: .5ex;\n",
       "  margin: .5ex;\n",
       "  width: min-content;\n",
       "  min-width: 20ex;\n",
       "  max-width: 50ex;\n",
       "  color: var(--sklearn-color-text);\n",
       "  box-shadow: 2pt 2pt 4pt #999;\n",
       "  /* unfitted */\n",
       "  background: var(--sklearn-color-unfitted-level-0);\n",
       "  border: .5pt solid var(--sklearn-color-unfitted-level-3);\n",
       "}\n",
       "\n",
       ".sk-estimator-doc-link.fitted span {\n",
       "  /* fitted */\n",
       "  background: var(--sklearn-color-fitted-level-0);\n",
       "  border: var(--sklearn-color-fitted-level-3);\n",
       "}\n",
       "\n",
       ".sk-estimator-doc-link:hover span {\n",
       "  display: block;\n",
       "}\n",
       "\n",
       "/* \"?\"-specific style due to the `<a>` HTML tag */\n",
       "\n",
       "#sk-container-id-1 a.estimator_doc_link {\n",
       "  float: right;\n",
       "  font-size: 1rem;\n",
       "  line-height: 1em;\n",
       "  font-family: monospace;\n",
       "  background-color: var(--sklearn-color-background);\n",
       "  border-radius: 1rem;\n",
       "  height: 1rem;\n",
       "  width: 1rem;\n",
       "  text-decoration: none;\n",
       "  /* unfitted */\n",
       "  color: var(--sklearn-color-unfitted-level-1);\n",
       "  border: var(--sklearn-color-unfitted-level-1) 1pt solid;\n",
       "}\n",
       "\n",
       "#sk-container-id-1 a.estimator_doc_link.fitted {\n",
       "  /* fitted */\n",
       "  border: var(--sklearn-color-fitted-level-1) 1pt solid;\n",
       "  color: var(--sklearn-color-fitted-level-1);\n",
       "}\n",
       "\n",
       "/* On hover */\n",
       "#sk-container-id-1 a.estimator_doc_link:hover {\n",
       "  /* unfitted */\n",
       "  background-color: var(--sklearn-color-unfitted-level-3);\n",
       "  color: var(--sklearn-color-background);\n",
       "  text-decoration: none;\n",
       "}\n",
       "\n",
       "#sk-container-id-1 a.estimator_doc_link.fitted:hover {\n",
       "  /* fitted */\n",
       "  background-color: var(--sklearn-color-fitted-level-3);\n",
       "}\n",
       "</style><div id=\"sk-container-id-1\" class=\"sk-top-container\"><div class=\"sk-text-repr-fallback\"><pre>LogisticRegression(max_iter=200, random_state=42)</pre><b>In a Jupyter environment, please rerun this cell to show the HTML representation or trust the notebook. <br />On GitHub, the HTML representation is unable to render, please try loading this page with nbviewer.org.</b></div><div class=\"sk-container\" hidden><div class=\"sk-item\"><div class=\"sk-estimator fitted sk-toggleable\"><input class=\"sk-toggleable__control sk-hidden--visually\" id=\"sk-estimator-id-1\" type=\"checkbox\" checked><label for=\"sk-estimator-id-1\" class=\"sk-toggleable__label fitted sk-toggleable__label-arrow fitted\">&nbsp;&nbsp;LogisticRegression<a class=\"sk-estimator-doc-link fitted\" rel=\"noreferrer\" target=\"_blank\" href=\"https://scikit-learn.org/1.5/modules/generated/sklearn.linear_model.LogisticRegression.html\">?<span>Documentation for LogisticRegression</span></a><span class=\"sk-estimator-doc-link fitted\">i<span>Fitted</span></span></label><div class=\"sk-toggleable__content fitted\"><pre>LogisticRegression(max_iter=200, random_state=42)</pre></div> </div></div></div></div>"
      ],
      "text/plain": [
       "LogisticRegression(max_iter=200, random_state=42)"
      ]
     },
     "execution_count": 31,
     "metadata": {},
     "output_type": "execute_result"
    }
   ],
   "source": [
    "log_reg.fit(x_train_scaled, y_train)"
   ]
  },
  {
   "cell_type": "code",
   "execution_count": 32,
   "id": "2d5b0295-fe0b-49c6-80d1-4dfc53372b7b",
   "metadata": {},
   "outputs": [],
   "source": [
    "y_pred_ = log_reg.predict(x_test_scaled)"
   ]
  },
  {
   "cell_type": "code",
   "execution_count": 33,
   "id": "ebbaa208-0266-40f2-a072-f3618e6267cc",
   "metadata": {},
   "outputs": [],
   "source": [
    "y_probs = log_reg.predict_proba(x_test_scaled)[:, 1]  # Pozitif sınıfın olasılıkları\n"
   ]
  },
  {
   "cell_type": "code",
   "execution_count": 34,
   "id": "443601e4-7f6f-4c88-9002-2db626689050",
   "metadata": {},
   "outputs": [],
   "source": [
    "threshold = 0.4\n",
    "y_pred_custom = (y_probs > threshold).astype(int)"
   ]
  },
  {
   "cell_type": "code",
   "execution_count": 35,
   "id": "13bc6f69-4bfc-44fe-8af0-32d32785cca0",
   "metadata": {},
   "outputs": [
    {
     "data": {
      "image/png": "[encoded data removed]",
      "text/plain": [
       "<Figure size 640x480 with 1 Axes>"
      ]
     },
     "metadata": {},
     "output_type": "display_data"
    }
   ],
   "source": [
    "# Step 16 Evaluation of the Sklearn Logistic Regression Model :\n",
    "\n",
    "fpr, tpr, thresholds = roc_curve(y_test, y_pred_custom)\n",
    "roc_auc = auc(fpr, tpr)\n",
    "\n",
    "plt.plot(fpr, tpr, label='AUC = %0.2f' % roc_auc)\n",
    "plt.plot([0, 1], [0, 1],'r--')\n",
    "plt.xlabel('False Positive Rate')\n",
    "plt.ylabel('True Positive Rate')\n",
    "plt.title('ROC Curve')\n",
    "plt.legend()\n",
    "plt.show()\n"
   ]
  },
  {
   "cell_type": "markdown",
   "id": "95b97d12-85c4-4872-a576-a7aeaf93532e",
   "metadata": {},
   "source": [
    "**The ROC Curve of the Sklearn Logistic Regression** shows that the model works very well. The blue line is almost at the top, which means the model can find most cancer patients correctly. The AUC value is 0.95. This shows that the model is very good at separating cancer and non-cancer patients. In other words, the model can correctly identify 95% of the real cancer patients. "
   ]
  },
  {
   "cell_type": "code",
   "execution_count": 36,
   "id": "c3ad0cb3-9cde-4b24-a456-10057c4cebd4",
   "metadata": {
    "scrolled": true
   },
   "outputs": [
    {
     "data": {
      "image/png": "[encoded data removed]",
      "text/plain": [
       "<Figure size 600x400 with 2 Axes>"
      ]
     },
     "metadata": {},
     "output_type": "display_data"
    },
    {
     "name": "stdout",
     "output_type": "stream",
     "text": [
      "Accuracy: 0.9649122807017544\n",
      "              precision    recall  f1-score   support\n",
      "\n",
      "           0       1.00      0.91      0.95        43\n",
      "           1       0.95      1.00      0.97        71\n",
      "\n",
      "    accuracy                           0.96       114\n",
      "   macro avg       0.97      0.95      0.96       114\n",
      "weighted avg       0.97      0.96      0.96       114\n",
      "\n"
     ]
    }
   ],
   "source": [
    "\n",
    "\n",
    "cm = confusion_matrix(y_test, y_pred_custom)\n",
    "\n",
    "plt.figure(figsize=(6,4))\n",
    "sns.heatmap(cm, annot=True, fmt='d', cmap='Blues')\n",
    "plt.xlabel('Predicted Label')\n",
    "plt.ylabel('True Label')\n",
    "plt.title('Confusion Matrix')\n",
    "plt.show()\n",
    "\n",
    "print(\"Accuracy:\", accuracy_score(y_test, y_pred_custom))\n",
    "print(classification_report(y_test, y_pred_custom))\n",
    "\n"
   ]
  },
  {
   "cell_type": "markdown",
   "id": "1e86c209-e89e-4755-8780-321ccb872eef",
   "metadata": {},
   "source": [
    "- The accuracy of the model is 0.96. This result means the model performs well Let's also check both the recall and precision scores as well.<br>\n",
    "- When the recall is checked, we see a score of 100%. This shows that the model did not miss any cancer patients; it correctly found all of them.<br>\n",
    "- On the other hand, when we check the precision score, it is 95%. This means that 95% of the patients the model predicted as having cancer actually have cancer. In other words, only 5% of the predicted cancer patients were not real cancer patients (false positives)."
   ]
  },
  {
   "cell_type": "markdown",
   "id": "b18987c6-9dfb-4cf6-bc97-07e6d174267c",
   "metadata": {},
   "source": [
    "| Model                    | **Accuracy** | **Recall (Sensitivity)** | **Precision** | **F1 Score** | **AUC**  |\n",
    "|--------------------------|----------|---------------------|-----------|----------|------|\n",
    "| **Manual Perceptron**        | 0.97     | 1.00                | 0.96      | 0.98     | 0.97 |\n",
    "| **Sklearn Logistic Reg.**    | 0.96     | 1.00                | 0.95      | 0.97     | 0.95 |\n"
   ]
  },
  {
   "cell_type": "markdown",
   "id": "c096409a-3d4f-4ba5-9c48-8ca35d0d9002",
   "metadata": {},
   "source": [
    "**As a result:**\n",
    "We see that both the manual perceptron model and the sklearn logistic regression model give very similar results. Their recall scores are the same, and there is only about a 1% difference in accuracy, precision, F1, and AUC scores.<br>\n",
    "This shows that if we use a simple perceptron (a basic deep learning technique), we can achieve almost the same performance as with instant library models. This also demonstrates how powerful deep learning methods can be, even with a very simple architecture.<br>\n",
    "In summary, both models successfully predict cancer cases with high accuracy and sensitivity. "
   ]
  },
  {
   "cell_type": "code",
   "execution_count": 37,
   "id": "0d5791b5-97cf-485b-b9c8-e77154e0d9da",
   "metadata": {},
   "outputs": [],
   "source": [
    "# Step 17 Additonal Step: \n",
    "\n",
    "# If you would like to download your project's conda environment you can use the code below.\n",
    "# If your work area is jupyter or Colab you should use \"!\" sign to access the command prompt,\n",
    "# otherwise \"!\" sign is not required.\n",
    "# code sample:\n",
    "# !conda env export > environmentbreastCancer.yaml"
   ]
  },
  {
   "cell_type": "code",
   "execution_count": null,
   "id": "e63ef796-5fc7-4d88-875a-f96285d50b63",
   "metadata": {},
   "outputs": [],
   "source": []
  }
 ],
 "metadata": {
  "kernelspec": {
   "display_name": "Python [conda env:base-2] *",
   "language": "python",
   "name": "conda-env-base-2-py"
  },
  "language_info": {
   "codemirror_mode": {
    "name": "ipython",
    "version": 3
   },
   "file_extension": ".py",
   "mimetype": "text/x-python",
   "name": "python",
   "nbconvert_exporter": "python",
   "pygments_lexer": "ipython3",
   "version": "3.12.7"
  }
 },
 "nbformat": 4,
 "nbformat_minor": 5
}
